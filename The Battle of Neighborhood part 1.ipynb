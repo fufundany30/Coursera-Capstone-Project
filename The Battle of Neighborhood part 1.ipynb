{
    "cells": [
        {
            "cell_type": "markdown",
            "metadata": {
                "collapsed": true
            },
            "source": "# Starting an Indonesian Restaurant in Toronto"
        },
        {
            "cell_type": "markdown",
            "metadata": {},
            "source": "## 1. Introduction / Business Problem\n"
        },
        {
            "cell_type": "markdown",
            "metadata": {},
            "source": "Ontario\u2019s capital city, Toronto, is Canada\u2019s most populous municipality with over 6.3 million people. The city is also ranked as one of the most multicultural in the world with half of its population born outside Canada. Over 140 languages and dialects are spoken here.\n\nThe cuisine of Toronto reflects Toronto's size and multicultural diversity. Different ethnic neighbourhoods throughout the city focus on specific cuisines, such as authentic Chinese and Vietnamese found in the city's Chinatowns, Korean in Koreatown, Greek on The Danforth, Italian cuisine in Little Italy and Corso Italia, and Indian/Pakistani in Little India. Numerous other world cuisines are available throughout the city, including Portuguese, Hungarian, Japanese, and Caribbean. Toronto's large Jewish population has also ensured a variety of Jewish restaurants and delis, with varying adherence to kosher rules. In addition to ethnic cuisines, Toronto is also home to many fine dining establishments and chain restaurants ranging from fast food to casual or upscale dining. The city is an interesting location to establish a new restaurant. However, due to the heavy competition, the exact location of the restaurant can make or break the business.\n\nMy client is planning to open a restaurant which serves Indonesian Cuisine. This particular cuisine is fairly rare in Toronto and has potential to become very popular. However, similar cuisines, such as theVietnamese, Thai and Korean cuisine are well established. In order to choose a location \nfor his restaurant, my client wants to know which neighbourhood has the biggest potential for a restaurant of this kind of food to be successful.\nI present an advice for the ideal location to establish a new Indonesian restaurant in Toronto.\n\n"
        },
        {
            "cell_type": "markdown",
            "metadata": {},
            "source": "## 2. Data"
        },
        {
            "cell_type": "markdown",
            "metadata": {},
            "source": "Three types of data are required for this project:\n\n1. Names and coordinates of the neighbourhoods of Toronto (Boroughs + Neighborhoods)\n2. Foursquare Toronto City guide data(Venues)"
        },
        {
            "cell_type": "markdown",
            "metadata": {},
            "source": "### 2.1 Names and Coordinates of the Neighbourhoods of Toronto"
        },
        {
            "cell_type": "markdown",
            "metadata": {},
            "source": "The first Dataset we will be using would contain all the required geographical data about Toronto. Namely, we would be using 'Borough', 'Neighborhood', 'Latitude', 'Longitude' among all the other data elements present in the data. For convenience, we would be using the same data set which was provided to us in Week 3 of this course (Applied Data Science Capstone).The coordinates were added using the Nominatim module of the Python Geopy library.\n\n- Geospatial Dataset (https://cf-courses-data.s3.us.cloud-object-storage.appdomain.cloud/IBMDeveloperSkillsNetwork-DS0701EN-SkillsNetwork/labs_v1/Geospatial_Coordinates.csv).\n- A list of the names of the different neighbourhoods of Toronto was scraped from Wikipedia (https://en.wikipedia.org/wiki/List_of_postal_codes_of_Canada:_M).  \n\nToronto has a total of 15 boroughs and 103 neighborhoods. In order to segement the neighborhoods and explore them, we will essentially need a dataset that contains the 15 boroughs and the neighborhoods that exist in each borough as well as the the latitude and logitude coordinates of each neighborhood. The 'Latitude' and 'Longitude' extracted from this dataset will also be pivotal when we use it perform Clustering using K-Means."
        },
        {
            "cell_type": "markdown",
            "metadata": {},
            "source": "### 2.2 Foursquare Toronto City Guide Data (Venues)"
        },
        {
            "cell_type": "markdown",
            "metadata": {},
            "source": "Foursquare City Guide, commonly known as Foursquare, is a local search-and-discovery mobile app which provides search results for its users. The app provides personalized recommendations of places to go near a user's current location based on users' previous browsing history and check-in history.\n\nBefore we can learn how to retrieve data from the Foursquare database, we need to create a developer account. On May 31st of 2018, Foursquare updated their API, and unlike before, now there are some limitations on how many calls you can make to the API. So when you create a developer account, the default type is the sandbox account, with 950 regular calls per day and 50 premium calls per day, and you can retrieve only one photo and one tip per venue. The account used in this project is a personal account which is still free, and with it you get 99,500 regular calls and 500 premium calls.\n \nThat is actually 100 times more calls than the default sandbox account. You'll also get access to over 105 million venues or points of interest, but you still only get two photos and two tips per venue, which is just one more photo and tip compared to the sandbox account. The Foursquare API credentials you need to create are: your Client ID and your Client Secret. You will need to pass these credentials every time you make a call to the API. You can go to the onliine Foursquare documentation and click on API and discover endpoints overview, and there you will find the different groups and endpoints available and whether each endpoint falls under a regular or a premium call.\n\nSo using the Foursquare API, we can search for specific type of venues or stores around a given location. it is important to remember that for this data, we make a regular call to the API, and if you have a free personal developer account, you can make up to approximately 99 thousand regular calls per day. We can also learn more about a specific venue or store or shop, like their full address, their working hours, and their menu if they have one, and so on. It's also important to remember that for this data, we would need to make a premium call and with the personal developer account, you can make approximately 500 calls per day. Also with the Foursquare API, we can learn more about a specific Foursquare user, their full name, and any tips or photos that they have posted about venues and stores. For this data, a regular call to the API would be made. Furthermore, we can explore a given location by finding what popular spots exist in the vicinity of the location, and for this data a regular call to the API would be made. And finally, with the Foursquare API, we can explore trending venues around a given location. These are venues with the highest foot traffic at the time this regular call to the API is made."
        }
    ],
    "metadata": {
        "kernelspec": {
            "display_name": "Python 3.7",
            "language": "python",
            "name": "python3"
        },
        "language_info": {
            "codemirror_mode": {
                "name": "ipython",
                "version": 3
            },
            "file_extension": ".py",
            "mimetype": "text/x-python",
            "name": "python",
            "nbconvert_exporter": "python",
            "pygments_lexer": "ipython3",
            "version": "3.7.10"
        }
    },
    "nbformat": 4,
    "nbformat_minor": 1
}